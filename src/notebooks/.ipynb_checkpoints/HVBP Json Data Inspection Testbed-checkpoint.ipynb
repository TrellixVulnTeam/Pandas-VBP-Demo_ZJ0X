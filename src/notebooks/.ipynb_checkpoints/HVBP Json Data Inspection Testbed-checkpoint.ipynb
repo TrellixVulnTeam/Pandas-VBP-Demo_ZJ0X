{
 "cells": [
  {
   "cell_type": "code",
   "execution_count": 1,
   "metadata": {},
   "outputs": [],
   "source": [
    "import requests"
   ]
  },
  {
   "cell_type": "code",
   "execution_count": null,
   "metadata": {},
   "outputs": [],
   "source": [
    "'''This testbed is a demonstration to evaluate healthdata.gov\\'s JSON payload structure'''"
   ]
  },
  {
   "cell_type": "code",
   "execution_count": null,
   "metadata": {},
   "outputs": [],
   "source": [
    "# first we make the request call, then we inspect the output as a JSON file structure"
   ]
  },
  {
   "cell_type": "code",
   "execution_count": 66,
   "metadata": {},
   "outputs": [],
   "source": [
    "url = 'https://data.medicare.gov/api/views/avtz-f2ge/rows.json?accessType=DOWNLOAD'\n",
    "r = requests.get(url)"
   ]
  },
  {
   "cell_type": "code",
   "execution_count": 67,
   "metadata": {},
   "outputs": [],
   "source": [
    "results = r.json()"
   ]
  },
  {
   "cell_type": "code",
   "execution_count": null,
   "metadata": {},
   "outputs": [],
   "source": [
    "# when inspecting the JSON payload's key values, we find that the payload separates meta and data values"
   ]
  },
  {
   "cell_type": "code",
   "execution_count": 69,
   "metadata": {},
   "outputs": [
    {
     "data": {
      "text/plain": [
       "dict_keys(['meta', 'data'])"
      ]
     },
     "execution_count": 69,
     "metadata": {},
     "output_type": "execute_result"
    }
   ],
   "source": [
    "results.keys()"
   ]
  },
  {
   "cell_type": "code",
   "execution_count": 80,
   "metadata": {},
   "outputs": [],
   "source": [
    "headers = [ele for ele in results['meta']['view']['columns'] if ele['dataTypeName'] != 'meta_data']"
   ]
  },
  {
   "cell_type": "code",
   "execution_count": 86,
   "metadata": {},
   "outputs": [],
   "source": [
    "headers = [ele['fieldName'] for ele in headers]"
   ]
  },
  {
   "cell_type": "code",
   "execution_count": null,
   "metadata": {},
   "outputs": [],
   "source": [
    "# when we look at the stdout of the headers variable, we can see a list of the data columns that exist.\n",
    "# This reflects what is seen in the csv data inspector tool from the website"
   ]
  },
  {
   "cell_type": "code",
   "execution_count": 87,
   "metadata": {},
   "outputs": [
    {
     "data": {
      "text/plain": [
       "['provider_number',\n",
       " 'hospital_name',\n",
       " 'address',\n",
       " 'city',\n",
       " 'state',\n",
       " 'zip_code',\n",
       " 'county_name',\n",
       " 'communication_with_nurses_floor',\n",
       " 'communication_with_nurses_achievement_threshold',\n",
       " 'communication_with_nurses_benchmark',\n",
       " 'communication_with_nurses_baseline_rate',\n",
       " 'communication_with_nurses_performance_rate',\n",
       " 'communication_with_nurses_achievement_points',\n",
       " 'communication_with_nurses_improvement_points',\n",
       " 'communication_with_nurses_dimension_score',\n",
       " 'communication_with_doctors_floor',\n",
       " 'communication_with_doctors_achievement_threshold',\n",
       " 'communication_with_doctors_benchmark',\n",
       " 'communication_with_doctors_baseline_rate',\n",
       " 'communication_with_doctors_performance_rate',\n",
       " 'communication_with_doctors_achievement_points',\n",
       " 'communication_with_doctors_improvement_points',\n",
       " 'communication_with_doctors_dimension_score',\n",
       " 'responsiveness_of_hospital_staff_floor',\n",
       " 'responsiveness_of_hospital_staff_achievement_threshold',\n",
       " 'responsiveness_of_hospital_staff_benchmark',\n",
       " 'responsiveness_of_hospital_staff_baseline_rate',\n",
       " 'responsiveness_of_hospital_staff_performance_rate',\n",
       " 'responsiveness_of_hospital_staff_achievement_points',\n",
       " 'responsiveness_of_hospital_staff_improvement_points',\n",
       " 'responsiveness_of_hospital_staff_dimension_score',\n",
       " 'pain_management_floor',\n",
       " 'pain_management_achievement_threshold',\n",
       " 'pain_management_benchmark',\n",
       " 'pain_management_baseline_rate',\n",
       " 'pain_management_performance_rate',\n",
       " 'pain_management_achievement_points',\n",
       " 'pain_management_improvement_points',\n",
       " 'pain_management_dimension_score',\n",
       " 'communication_about_medicines_floor',\n",
       " 'communication_about_medicines_achievement_threshold',\n",
       " 'communication_about_medicines_benchmark',\n",
       " 'communication_about_medicines_baseline_rate',\n",
       " 'communication_about_medicines_performance_rate',\n",
       " 'communication_about_medicines_achievement_points',\n",
       " 'communication_about_medicines_improvement_points',\n",
       " 'communication_about_medicines_dimension_score',\n",
       " 'cleanliness_and_quietness_of_hospital_environment_floor',\n",
       " 'cleanliness_and_quietness_of_hospital_environment_achievement_threshold',\n",
       " 'cleanliness_and_quietness_of_hospital_environment_benchmark',\n",
       " 'cleanliness_and_quietness_of_hospital_environment_baseline_rate',\n",
       " 'cleanliness_and_quietness_of_hospital_environment_performance_rate',\n",
       " 'cleanliness_and_quietness_of_hospital_environment_achievement_points',\n",
       " 'cleanliness_and_quietness_of_hospital_environment_improvement_points',\n",
       " 'cleanliness_and_quietness_of_hospital_environment_dimension_score',\n",
       " 'discharge_information_floor',\n",
       " 'discharge_information_achievement_threshold',\n",
       " 'discharge_information_benchmark',\n",
       " 'discharge_information_baseline_rate',\n",
       " 'discharge_information_performance_rate',\n",
       " 'discharge_information_achievement_points',\n",
       " 'discharge_information_improvement_points',\n",
       " 'discharge_information_dimension_score',\n",
       " 'overall_rating_of_hospital_floor',\n",
       " 'overall_rating_of_hospital_achievement_threshold',\n",
       " 'overall_rating_of_hospital_benchmark',\n",
       " 'overall_rating_of_hospital_baseline_rate',\n",
       " 'overall_rating_of_hospital_performance_rate',\n",
       " 'overall_rating_of_hospital_achievement_points',\n",
       " 'overall_rating_of_hospital_improvement_points',\n",
       " 'overall_rating_of_hospital_dimension_score',\n",
       " 'hcahps_base_score',\n",
       " 'hcahps_consistency_score',\n",
       " 'location']"
      ]
     },
     "execution_count": 87,
     "metadata": {},
     "output_type": "execute_result"
    }
   ],
   "source": [
    "headers"
   ]
  },
  {
   "cell_type": "code",
   "execution_count": null,
   "metadata": {},
   "outputs": [],
   "source": [
    "# now we check out the data payload"
   ]
  },
  {
   "cell_type": "code",
   "execution_count": 88,
   "metadata": {},
   "outputs": [],
   "source": [
    "data = results['data']"
   ]
  },
  {
   "cell_type": "code",
   "execution_count": 89,
   "metadata": {},
   "outputs": [
    {
     "data": {
      "text/plain": [
       "[18,\n",
       " '65E14E7F-5C8B-401C-BF0B-BCACF7A1A477',\n",
       " 18,\n",
       " 1554995671,\n",
       " '880810',\n",
       " 1554995671,\n",
       " '880810',\n",
       " None,\n",
       " '310009',\n",
       " 'CLARA MAASS MEDICAL CENTER',\n",
       " 'ONE CLARA MAASS DRIVE',\n",
       " 'BELLEVILLE',\n",
       " 'NJ',\n",
       " '07109',\n",
       " 'Essex',\n",
       " '28.10',\n",
       " '78.69',\n",
       " '86.97',\n",
       " '74.86',\n",
       " '78.62',\n",
       " '0 out of 10',\n",
       " '3 out of 9',\n",
       " '3 out of 10',\n",
       " '33.46',\n",
       " '80.32',\n",
       " '88.62',\n",
       " '77.36',\n",
       " '76.31',\n",
       " '0 out of 10',\n",
       " '0 out of 9',\n",
       " '0 out of 10',\n",
       " '32.72',\n",
       " '65.16',\n",
       " '80.15',\n",
       " '59.54',\n",
       " '61.64',\n",
       " '0 out of 10',\n",
       " '1 out of 9',\n",
       " '1 out of 10',\n",
       " '11.30',\n",
       " '51.42',\n",
       " '62.77',\n",
       " '45.58',\n",
       " '47.04',\n",
       " '0 out of 10',\n",
       " '0 out of 9',\n",
       " '0 out of 10',\n",
       " '11.38',\n",
       " '63.26',\n",
       " '73.53',\n",
       " '59.15',\n",
       " '67.89',\n",
       " '5 out of 10',\n",
       " '6 out of 9',\n",
       " '6 out of 10',\n",
       " '22.85',\n",
       " '65.58',\n",
       " '79.06',\n",
       " '59.59',\n",
       " '60.32',\n",
       " '0 out of 10',\n",
       " '0 out of 9',\n",
       " '0 out of 10',\n",
       " '61.96',\n",
       " '87.05',\n",
       " '91.87',\n",
       " '85.18',\n",
       " '84.09',\n",
       " '0 out of 10',\n",
       " '0 out of 9',\n",
       " '0 out of 10',\n",
       " '28.39',\n",
       " '70.85',\n",
       " '84.83',\n",
       " '56.08',\n",
       " '59.05',\n",
       " '0 out of 10',\n",
       " '1 out of 9',\n",
       " '1 out of 10',\n",
       " '11',\n",
       " '14',\n",
       " ['{\"address\":\"ONE CLARA MAASS DRIVE\",\"city\":\"BELLEVILLE\",\"state\":\"NJ\",\"zip\":\"07109\"}',\n",
       "  None,\n",
       "  None,\n",
       "  None,\n",
       "  True]]"
      ]
     },
     "execution_count": 89,
     "metadata": {},
     "output_type": "execute_result"
    }
   ],
   "source": [
    "data[0]"
   ]
  },
  {
   "cell_type": "code",
   "execution_count": null,
   "metadata": {},
   "outputs": [],
   "source": [
    "# Upon inspecting the list of data objects from a single instance of the full payload,\n",
    "# we can see that the data is unsorted and randomized.  This creates issues for data analysis\n",
    "# as cleaning and pairing the data will be time consuming.  Given that the site offers structured\n",
    "# data in the form of a csv file, it is save to avoid using the JSON filetype from this data provider"
   ]
  }
 ],
 "metadata": {
  "kernelspec": {
   "display_name": "Django Shell-Plus",
   "language": "python",
   "name": "django_extensions"
  },
  "language_info": {
   "codemirror_mode": {
    "name": "ipython",
    "version": 3
   },
   "file_extension": ".py",
   "mimetype": "text/x-python",
   "name": "python",
   "nbconvert_exporter": "python",
   "pygments_lexer": "ipython3",
   "version": "3.7.3"
  }
 },
 "nbformat": 4,
 "nbformat_minor": 2
}
