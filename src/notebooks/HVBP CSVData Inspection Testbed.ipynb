{
 "cells": [
  {
   "cell_type": "code",
   "execution_count": null,
   "metadata": {},
   "outputs": [],
   "source": [
    "import requests\n",
    "import csv\n",
    "import numpy as np\n",
    "import pandas as pd\n",
    "import collections"
   ]
  },
  {
   "cell_type": "code",
   "execution_count": null,
   "metadata": {},
   "outputs": [],
   "source": [
    "'''This testbed is a demonstration to evaluate healthdata.gov\\'s CSV payload structure'''"
   ]
  },
  {
   "cell_type": "code",
   "execution_count": null,
   "metadata": {},
   "outputs": [],
   "source": [
    "# first we make the request call, then we inspect the output"
   ]
  },
  {
   "cell_type": "code",
   "execution_count": null,
   "metadata": {},
   "outputs": [],
   "source": [
    "url = 'https://data.medicare.gov/api/views/avtz-f2ge/rows.csv?accessType=DOWNLOAD'\n",
    "r = requests.get(url)"
   ]
  },
  {
   "cell_type": "code",
   "execution_count": null,
   "metadata": {},
   "outputs": [],
   "source": [
    "# the output scans as a payload for string data, but we can see that the headers\n",
    "# and data rows are delimited uniformly.  This makes csv a much better format option\n",
    "# than json.  We can work from here."
   ]
  },
  {
   "cell_type": "code",
   "execution_count": null,
   "metadata": {},
   "outputs": [],
   "source": [
    "r.text[:1000]"
   ]
  },
  {
   "cell_type": "code",
   "execution_count": null,
   "metadata": {},
   "outputs": [],
   "source": [
    "# we'll split the data payload by newlines, and list the comma as the delimiter"
   ]
  },
  {
   "cell_type": "code",
   "execution_count": null,
   "metadata": {},
   "outputs": [],
   "source": [
    "reader = list(csv.reader(r.text.split('\\n'), delimiter=','))"
   ]
  },
  {
   "cell_type": "code",
   "execution_count": null,
   "metadata": {},
   "outputs": [],
   "source": [
    "# since this is relationaly structured data, we can declare the first item in the list\n",
    "# as the header, and the rest as the data payload.  Then we'll zip everything into dict\n",
    "# objects and push to a list"
   ]
  },
  {
   "cell_type": "code",
   "execution_count": null,
   "metadata": {},
   "outputs": [],
   "source": [
    "headers = reader[0]\n",
    "data = reader[1:]\n",
    "dict_payload = [dict(zip(headers, ele)) for ele in data]"
   ]
  },
  {
   "cell_type": "code",
   "execution_count": null,
   "metadata": {},
   "outputs": [],
   "source": [
    "collections.OrderedDict(dict_payload)"
   ]
  },
  {
   "cell_type": "code",
   "execution_count": null,
   "metadata": {},
   "outputs": [],
   "source": [
    "# upon inspecting the first result of the list object, we see that this worked as intended.\n",
    "# now we can work with a JSON payload that's RDMS friendly"
   ]
  },
  {
   "cell_type": "code",
   "execution_count": null,
   "metadata": {},
   "outputs": [],
   "source": [
    "ordered_dict = [collections.OrderedDict(ele) for ele in dict_payload]"
   ]
  },
  {
   "cell_type": "code",
   "execution_count": null,
   "metadata": {},
   "outputs": [],
   "source": [
    "ordered_dict[0]"
   ]
  },
  {
   "cell_type": "code",
   "execution_count": null,
   "metadata": {},
   "outputs": [],
   "source": [
    "dict_payload[0]"
   ]
  },
  {
   "cell_type": "code",
   "execution_count": null,
   "metadata": {},
   "outputs": [],
   "source": [
    "# now let's push this to pandas to create a dataframe"
   ]
  },
  {
   "cell_type": "code",
   "execution_count": null,
   "metadata": {},
   "outputs": [],
   "source": [
    "pd_dataframe = pd.DataFrame.from_dict(ordered_dict)"
   ]
  },
  {
   "cell_type": "code",
   "execution_count": null,
   "metadata": {},
   "outputs": [],
   "source": [
    "pd_dataframe"
   ]
  },
  {
   "cell_type": "code",
   "execution_count": null,
   "metadata": {},
   "outputs": [],
   "source": [
    "# converting the Ordered Dict objects into a Pandas DataFrame allows us to perform functions using\n",
    "# underlying mathematical funcitons, courtesy of NumPy. But since we're working with datasets with\n",
    "# thousands of entries at minimum, it would make sense to transform the dataset to optimize searching.\n",
    "# Pandas allows us to do that easily."
   ]
  },
  {
   "cell_type": "code",
   "execution_count": null,
   "metadata": {},
   "outputs": [],
   "source": [
    "pd_dataframe.T"
   ]
  },
  {
   "cell_type": "code",
   "execution_count": null,
   "metadata": {},
   "outputs": [],
   "source": [
    "# Now we can evaluate how to pull data based on Hospital Number and the\n",
    "# Responsiveness of Hospital Staff Performance Rate metric.  When dealing\n",
    "# with massive datasets, this optmizes querying by virtue of column-indexing.\n",
    "# That is, searching based on specific datafields reduces the search area by\n",
    "# the q_data_fields - n"
   ]
  },
  {
   "cell_type": "code",
   "execution_count": null,
   "metadata": {},
   "outputs": [],
   "source": [
    "# But for now, I want to rank order hospitals by their Hosp. Staff's Perf Rate. However,\n",
    "# the returning chart, for our purposes, is full of excess data."
   ]
  },
  {
   "cell_type": "code",
   "execution_count": null,
   "metadata": {},
   "outputs": [],
   "source": [
    "pd_dataframe.sort_values(by=['Responsiveness of Hospital Staff Performance Rate'], ascending=False)"
   ]
  },
  {
   "cell_type": "code",
   "execution_count": null,
   "metadata": {},
   "outputs": [],
   "source": [
    "# To address this, we'll filter for the columns that we do want, and sort\n",
    "# based on the particular performance metric. Since this will succeed, now\n",
    "# we can work on analyzing and synthesizing data from these results."
   ]
  },
  {
   "cell_type": "code",
   "execution_count": null,
   "metadata": {},
   "outputs": [],
   "source": [
    "pd_dataframe.filter(items=['Responsiveness of Hospital Staff Performance Rate',\n",
    "                           'Provider Number', 'Hospital Name', 'City', 'State', 'ZIP Code']).sort_values(\n",
    "    by=['Responsiveness of Hospital Staff Performance Rate'], ascending=False)"
   ]
  },
  {
   "cell_type": "code",
   "execution_count": null,
   "metadata": {},
   "outputs": [],
   "source": []
  }
 ],
 "metadata": {
  "kernelspec": {
   "display_name": "Django Shell-Plus",
   "language": "python",
   "name": "django_extensions"
  },
  "language_info": {
   "codemirror_mode": {
    "name": "ipython",
    "version": 3
   },
   "file_extension": ".py",
   "mimetype": "text/x-python",
   "name": "python",
   "nbconvert_exporter": "python",
   "pygments_lexer": "ipython3",
   "version": "3.7.3"
  }
 },
 "nbformat": 4,
 "nbformat_minor": 2
}
